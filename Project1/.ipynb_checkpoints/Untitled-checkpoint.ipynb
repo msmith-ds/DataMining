{
 "cells": [
  {
   "cell_type": "code",
   "execution_count": 1,
   "metadata": {
    "collapsed": false
   },
   "outputs": [
    {
     "ename": "KeyboardInterrupt",
     "evalue": "",
     "output_type": "error",
     "traceback": [
      "\u001b[0;31m---------------------------------------------------------------------------\u001b[0m",
      "\u001b[0;31mKeyboardInterrupt\u001b[0m                         Traceback (most recent call last)",
      "\u001b[0;32mC:\\Users\\Owner\\Anaconda2\\envs\\Py3\\lib\\site-packages\\IPython\\core\\interactiveshell.py\u001b[0m in \u001b[0;36mrun_code\u001b[0;34m(self, code_obj, result)\u001b[0m\n\u001b[1;32m   2880\u001b[0m                 \u001b[1;31m#rprint('Running code', repr(code_obj)) # dbg\u001b[0m\u001b[1;33m\u001b[0m\u001b[1;33m\u001b[0m\u001b[0m\n\u001b[0;32m-> 2881\u001b[0;31m                 \u001b[0mexec\u001b[0m\u001b[1;33m(\u001b[0m\u001b[0mcode_obj\u001b[0m\u001b[1;33m,\u001b[0m \u001b[0mself\u001b[0m\u001b[1;33m.\u001b[0m\u001b[0muser_global_ns\u001b[0m\u001b[1;33m,\u001b[0m \u001b[0mself\u001b[0m\u001b[1;33m.\u001b[0m\u001b[0muser_ns\u001b[0m\u001b[1;33m)\u001b[0m\u001b[1;33m\u001b[0m\u001b[0m\n\u001b[0m\u001b[1;32m   2882\u001b[0m             \u001b[1;32mfinally\u001b[0m\u001b[1;33m:\u001b[0m\u001b[1;33m\u001b[0m\u001b[0m\n",
      "\u001b[0;32m<ipython-input-1-b5d9bc0db612>\u001b[0m in \u001b[0;36m<module>\u001b[0;34m()\u001b[0m\n\u001b[1;32m     34\u001b[0m                         \u001b[0mlines\u001b[0m\u001b[1;33m[\u001b[0m\u001b[0mc\u001b[0m\u001b[1;33m]\u001b[0m \u001b[1;33m=\u001b[0m \u001b[0mlines\u001b[0m\u001b[1;33m[\u001b[0m\u001b[0mc\u001b[0m\u001b[1;33m]\u001b[0m\u001b[1;33m.\u001b[0m\u001b[0mreplace\u001b[0m\u001b[1;33m(\u001b[0m\u001b[1;34m'\"'\u001b[0m\u001b[1;33m,\u001b[0m\u001b[1;34m''\u001b[0m\u001b[1;33m)\u001b[0m\u001b[1;33m\u001b[0m\u001b[0m\n\u001b[0;32m---> 35\u001b[0;31m                         \u001b[0mlines\u001b[0m\u001b[1;33m[\u001b[0m\u001b[0mc\u001b[0m\u001b[1;33m]\u001b[0m \u001b[1;33m=\u001b[0m \u001b[0mlines\u001b[0m\u001b[1;33m[\u001b[0m\u001b[0mc\u001b[0m\u001b[1;33m]\u001b[0m\u001b[1;33m.\u001b[0m\u001b[0msplit\u001b[0m\u001b[1;33m(\u001b[0m\u001b[1;34m\",\"\u001b[0m\u001b[1;33m)\u001b[0m\u001b[1;33m\u001b[0m\u001b[0m\n\u001b[0m\u001b[1;32m     36\u001b[0m                 \u001b[0mcitiBikeDataRaw\u001b[0m\u001b[1;33m.\u001b[0m\u001b[0mextend\u001b[0m\u001b[1;33m(\u001b[0m\u001b[0mlines\u001b[0m\u001b[1;33m)\u001b[0m\u001b[1;33m\u001b[0m\u001b[0m\n",
      "\u001b[0;31mKeyboardInterrupt\u001b[0m: ",
      "\nDuring handling of the above exception, another exception occurred:\n",
      "\u001b[0;31mKeyboardInterrupt\u001b[0m                         Traceback (most recent call last)",
      "\u001b[0;32mC:\\Users\\Owner\\Anaconda2\\envs\\Py3\\lib\\site-packages\\IPython\\core\\interactiveshell.py\u001b[0m in \u001b[0;36mrun_code\u001b[0;34m(self, code_obj, result)\u001b[0m\n\u001b[1;32m   2895\u001b[0m         \u001b[1;32mexcept\u001b[0m\u001b[1;33m:\u001b[0m\u001b[1;33m\u001b[0m\u001b[0m\n\u001b[1;32m   2896\u001b[0m             \u001b[1;32mif\u001b[0m \u001b[0mresult\u001b[0m \u001b[1;32mis\u001b[0m \u001b[1;32mnot\u001b[0m \u001b[1;32mNone\u001b[0m\u001b[1;33m:\u001b[0m\u001b[1;33m\u001b[0m\u001b[0m\n\u001b[0;32m-> 2897\u001b[0;31m                 \u001b[0mresult\u001b[0m\u001b[1;33m.\u001b[0m\u001b[0merror_in_exec\u001b[0m \u001b[1;33m=\u001b[0m \u001b[0msys\u001b[0m\u001b[1;33m.\u001b[0m\u001b[0mexc_info\u001b[0m\u001b[1;33m(\u001b[0m\u001b[1;33m)\u001b[0m\u001b[1;33m[\u001b[0m\u001b[1;36m1\u001b[0m\u001b[1;33m]\u001b[0m\u001b[1;33m\u001b[0m\u001b[0m\n\u001b[0m\u001b[1;32m   2898\u001b[0m             \u001b[0mself\u001b[0m\u001b[1;33m.\u001b[0m\u001b[0mshowtraceback\u001b[0m\u001b[1;33m(\u001b[0m\u001b[1;33m)\u001b[0m\u001b[1;33m\u001b[0m\u001b[0m\n\u001b[1;32m   2899\u001b[0m         \u001b[1;32melse\u001b[0m\u001b[1;33m:\u001b[0m\u001b[1;33m\u001b[0m\u001b[0m\n",
      "\u001b[0;31mKeyboardInterrupt\u001b[0m: "
     ]
    }
   ],
   "source": [
    "import os\n",
    "import sys\n",
    "import re\n",
    "\n",
    "workDirectory = \"\"\n",
    "\n",
    "citiBikeDataDirectory = \"Citi Bike Data\"\n",
    "citiBikeDataFileNames = [\n",
    "\t\"2013-07 - Citi Bike trip data - 1.csv\",\n",
    "\t\"2013-07 - Citi Bike trip data - 2.csv\",\n",
    "\t\"2013-08 - Citi Bike trip data - 1.csv\",\n",
    "\t\"2013-08 - Citi Bike trip data - 2.csv\",\n",
    "\t\"2013-09 - Citi Bike trip data - 1.csv\",\n",
    "\t\"2013-09 - Citi Bike trip data - 2.csv\",\n",
    "\t\"2013-10 - Citi Bike trip data - 1.csv\",\n",
    "\t\"2013-10 - Citi Bike trip data - 2.csv\",\n",
    "\t\"2013-11 - Citi Bike trip data - 1.csv\",\n",
    "\t\"2013-11 - Citi Bike trip data - 2.csv\",\n",
    "\t\"2013-12 - Citi Bike trip data.csv\",\n",
    "\t\"2014-01 - Citi Bike trip data.csv\",\n",
    "\t\"2014-02 - Citi Bike trip data.csv\"\n",
    "]\n",
    "\n",
    "weatherDataFile = \"Weather Data/NY305801_9255_edited.txt\"\n",
    "\n",
    "citiBikeDataRaw = []\n",
    "\n",
    "for x in range(len(citiBikeDataFileNames)):\n",
    "\tfilepath = citiBikeDataDirectory + \"/\" + citiBikeDataFileNames[x]\n",
    "\twith open(filepath) as f:\n",
    "\t\tlines = f.read().splitlines()\n",
    "\t\tlines.pop(0) #get rid of the first line that contains the column names\n",
    "\t\tfor c in range(len(lines)):\n",
    "\t\t\tlines[c] = lines[c].replace('\"','')\n",
    "\t\t\tlines[c] = lines[c].split(\",\")\n",
    "\t\tcitiBikeDataRaw.extend(lines)\n",
    "\n",
    "with open(weatherDataFile) as f:\n",
    "\tweatherDataRaw = f.read().splitlines()\n",
    "\tweatherDataRaw.pop(0) #again, get rid of the column names\n",
    "\tfor c in range(len(weatherDataRaw)):\n",
    "\t\tweatherDataRaw[c] = weatherDataRaw[c].split(\",\")\n",
    "\n",
    "citiBikeData = []\n",
    "\n",
    "for i in range(len(citiBikeDataRaw)):\n",
    "\tinstance = citiBikeDataRaw[i]\n",
    "\tdate = citiBikeDataRaw[i][1].split(\" \")[0].split(\"-\") #uses the start date of the loan\n",
    "\tfor j in range(len(weatherDataRaw)):\n",
    "\t\tif (date[0] == weatherDataRaw[j][4] and date[1] == weatherDataRaw[j][2] and date[2] == weatherDataRaw[j][0]):\n",
    "\t\t\tinstance.extend([weatherDataRaw[j][5], weatherDataRaw[j][6], weatherDataRaw[j][7], weatherDataRaw[j][8], weatherDataRaw[j][9]])\n",
    "\t\t\tcitiBikeData.append(instance)\n",
    "\t\t\tbreak\n",
    "\n",
    "#Final Columns:\n",
    "#  0 tripduration\n",
    "#  1 starttime\n",
    "#  2 stoptime\n",
    "#  3 start station id\n",
    "#  4 start station name\n",
    "#  5 start station latitude\n",
    "#  6 start station longitude\n",
    "#  7 end station id\n",
    "#  8 end station name\n",
    "#  9 end station latitude\n",
    "# 10 end station longitude\n",
    "# 11 bikeid\n",
    "# 12 usertype\n",
    "# 13 birth year\n",
    "# 14 gender\n",
    "# 15 PRCP\n",
    "# 16 SNOW\n",
    "# 17 TAVE\n",
    "# 18 TMAX\n",
    "# 19 TMIN\n",
    "\t\t\t\n",
    "print(citiBikeData[0])"
   ]
  },
  {
   "cell_type": "code",
   "execution_count": null,
   "metadata": {
    "collapsed": true
   },
   "outputs": [],
   "source": []
  }
 ],
 "metadata": {
  "anaconda-cloud": {},
  "kernelspec": {
   "display_name": "Python [conda env:Py3]",
   "language": "python",
   "name": "conda-env-Py3-py"
  },
  "language_info": {
   "codemirror_mode": {
    "name": "ipython",
    "version": 3
   },
   "file_extension": ".py",
   "mimetype": "text/x-python",
   "name": "python",
   "nbconvert_exporter": "python",
   "pygments_lexer": "ipython3",
   "version": "3.5.2"
  }
 },
 "nbformat": 4,
 "nbformat_minor": 2
}
